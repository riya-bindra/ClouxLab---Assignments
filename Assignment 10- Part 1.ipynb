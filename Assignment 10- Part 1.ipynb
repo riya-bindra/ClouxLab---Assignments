{
 "cells": [
  {
   "cell_type": "markdown",
   "id": "03e1beb5-6264-442a-9821-48d47da0fd0f",
   "metadata": {},
   "source": [
    "### Problem: Move all zeros to the beginning and all 1s to the end without using another list in O(n)"
   ]
  },
  {
   "cell_type": "markdown",
   "id": "9c560d20-444a-49f4-bc1c-c4fd0ab44cfa",
   "metadata": {},
   "source": [
    "##### Input: [(0,\"x\"), (1, 12), (0, 34), (1,90), (1,89), (0,\"s\"),  (1, \"7\")]\r\n",
    "##### Expected Output: [(0,\"x\"), (0, 34), (0,\"s\"), (1,89), (1,90), (1, 12),  (1, \"7\")]"
   ]
  },
  {
   "cell_type": "code",
   "execution_count": 13,
   "id": "fd649705-3d36-43f6-ada5-c391b911f255",
   "metadata": {},
   "outputs": [],
   "source": [
    "def sort_list(input_list):\n",
    "    \n",
    "    left = 0\n",
    "    right = len(input_list) - 1\n",
    "\n",
    "    while left < right:\n",
    "        \n",
    "        while left < len(input_list) and input_list[left][0] == 0:\n",
    "            left = left + 1\n",
    "\n",
    "        while right >= 0 and input_list[right][0] == 1:\n",
    "            right = right - 1\n",
    "\n",
    "        # If the pointers have not crossed, swap the two elements\n",
    "        if left < right:\n",
    "            input_list[left]  = input_list[right]\n",
    "            input_list[right] = input_list[left]\n",
    "\n",
    "    return input_list #Sorted list"
   ]
  },
  {
   "cell_type": "code",
   "execution_count": 14,
   "id": "6470cc2c-a793-4455-ab18-e161a8fd5844",
   "metadata": {},
   "outputs": [
    {
     "name": "stdout",
     "output_type": "stream",
     "text": [
      "Output: [(0, 'x'), (0, 's'), (0, 34), (0, 's'), (0, 's'), (0, 's'), (1, '7')]\n"
     ]
    }
   ],
   "source": [
    "input_list = [(0, \"x\"), (1, 12), (0, 34), (1, 90), (1, 89), (0, \"s\"), (1, \"7\")]\n",
    "\n",
    "output_list = sort_list(input_list)\n",
    "\n",
    "print(\"Output:\", output_list)"
   ]
  },
  {
   "cell_type": "code",
   "execution_count": null,
   "id": "79ebf7ae-22eb-4e24-981d-2603d47440e7",
   "metadata": {},
   "outputs": [],
   "source": []
  }
 ],
 "metadata": {
  "kernelspec": {
   "display_name": "Python 3 (ipykernel)",
   "language": "python",
   "name": "python3"
  },
  "language_info": {
   "codemirror_mode": {
    "name": "ipython",
    "version": 3
   },
   "file_extension": ".py",
   "mimetype": "text/x-python",
   "name": "python",
   "nbconvert_exporter": "python",
   "pygments_lexer": "ipython3",
   "version": "3.12.10"
  }
 },
 "nbformat": 4,
 "nbformat_minor": 5
}
