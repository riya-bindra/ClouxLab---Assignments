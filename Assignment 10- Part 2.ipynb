{
 "cells": [
  {
   "cell_type": "markdown",
   "id": "e3c922ea-7c3a-407e-9eae-5cf81414c732",
   "metadata": {},
   "source": [
    "## Problem: Merge Sort"
   ]
  },
  {
   "cell_type": "code",
   "execution_count": 51,
   "id": "c9bdbd08-69bb-4f23-9a1d-e6af0aaf532b",
   "metadata": {},
   "outputs": [],
   "source": [
    "def merge_sort(arr):\n",
    "    if len(arr) <= 1: #Base case\n",
    "        return arr\n",
    "\n",
    "    mid = len(arr) // 2\n",
    "    left_half = merge_sort(arr[:mid])\n",
    "    right_half = merge_sort(arr[mid:])\n",
    "\n",
    "    return merge(left_half, right_half) #Merge sorted halves"
   ]
  },
  {
   "cell_type": "code",
   "execution_count": 52,
   "id": "2a8eee7a-0899-4af4-a22b-43e366275a23",
   "metadata": {},
   "outputs": [],
   "source": [
    "def merge(left, right):\n",
    "    sorted_list = []\n",
    "    i = j = 0\n",
    "\n",
    "    while i < len(left) and j < len(right):\n",
    "        if left[i] <= right[j]:\n",
    "            sorted_list.append(left[i])\n",
    "            i = i + 1\n",
    "        else:\n",
    "            sorted_list.append(right[j])\n",
    "            j = j + 1\n",
    "\n",
    "    while i < len(left):\n",
    "        sorted_list.append(left[i])\n",
    "        i = i + 1\n",
    "\n",
    "    while j < len(right):\n",
    "        sorted_list.append(right[j])\n",
    "        j = j + 1\n",
    "\n",
    "    return sorted_list"
   ]
  },
  {
   "cell_type": "code",
   "execution_count": 53,
   "id": "a72e4269-0754-4ebc-ba48-f7afb0cc3868",
   "metadata": {},
   "outputs": [
    {
     "name": "stdout",
     "output_type": "stream",
     "text": [
      "Original array is: [34, 7, 23, 32, 5, 62]\n",
      "Sorted array is: [5, 7, 23, 32, 34, 62]\n"
     ]
    }
   ],
   "source": [
    "arr = [34, 7, 23, 32, 5, 62]\n",
    "print(\"Original array is:\", arr)\n",
    "\n",
    "sorted_arr = merge_sort(arr)\n",
    "print(\"Sorted array is:\", sorted_arr)"
   ]
  },
  {
   "cell_type": "code",
   "execution_count": null,
   "id": "50a8676f-60ee-4352-9de3-f19dbadbe86a",
   "metadata": {},
   "outputs": [],
   "source": []
  }
 ],
 "metadata": {
  "kernelspec": {
   "display_name": "Python 3 (ipykernel)",
   "language": "python",
   "name": "python3"
  },
  "language_info": {
   "codemirror_mode": {
    "name": "ipython",
    "version": 3
   },
   "file_extension": ".py",
   "mimetype": "text/x-python",
   "name": "python",
   "nbconvert_exporter": "python",
   "pygments_lexer": "ipython3",
   "version": "3.12.10"
  }
 },
 "nbformat": 4,
 "nbformat_minor": 5
}
