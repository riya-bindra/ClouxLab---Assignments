{
 "cells": [
  {
   "cell_type": "markdown",
   "id": "cc45940b-db87-477f-b00a-89e93a8e9665",
   "metadata": {},
   "source": [
    "## Problem: Find the next n lines line in the file (line ending with /n)"
   ]
  },
  {
   "cell_type": "code",
   "execution_count": 1,
   "id": "2d7d1d7a-d68e-4ea9-891d-6f2d0c379ca4",
   "metadata": {},
   "outputs": [],
   "source": [
    "def read_n_lines(filename, n):\n",
    "    f = open(filename, 'r')\n",
    "    lines = []\n",
    "    for i in range(n):\n",
    "        line = f.readline()\n",
    "        if line:\n",
    "            lines.append(line)\n",
    "        else:\n",
    "            break\n",
    "    f.close()\n",
    "    return lines"
   ]
  },
  {
   "cell_type": "code",
   "execution_count": 2,
   "id": "9b5b77d1-44f5-4160-9d0e-ace11676d10f",
   "metadata": {},
   "outputs": [
    {
     "name": "stdout",
     "output_type": "stream",
     "text": [
      "Whose woods these are I think I know.   \n",
      "His house is in the village though;   \n",
      "He will not see me stopping here   \n",
      "To watch his woods fill up with snow.   \n",
      "\n"
     ]
    }
   ],
   "source": [
    "lines = read_n_lines('assignment12.txt', 5)\n",
    "for line in lines:\n",
    "    print(line, end='') "
   ]
  },
  {
   "cell_type": "markdown",
   "id": "ab9285b5-77c9-4c56-9fb2-f49c13daf1bb",
   "metadata": {},
   "source": [
    "## Problem: Find the last n lines line in the file (line ending with /n)"
   ]
  },
  {
   "cell_type": "code",
   "execution_count": 3,
   "id": "a4587a45-27b3-45a2-8437-fd8e651a4d20",
   "metadata": {},
   "outputs": [],
   "source": [
    "def last_n_lines(filename, n):\n",
    "    lines = []\n",
    "    f = open(filename, 'r')\n",
    "    for line in f:\n",
    "        lines.append(line)\n",
    "        if len(lines) > n:\n",
    "            lines.pop(0)\n",
    "    f.close()\n",
    "    return lines"
   ]
  },
  {
   "cell_type": "code",
   "execution_count": 5,
   "id": "daf26831-cbf8-485a-b73a-5d0ff9ecd763",
   "metadata": {},
   "outputs": [
    {
     "name": "stdout",
     "output_type": "stream",
     "text": [
      "\n",
      "The woods are lovely, dark and deep,   \n",
      "But I have promises to keep,   \n",
      "And miles to go before I sleep,   \n",
      "And miles to go before I sleep.\n"
     ]
    }
   ],
   "source": [
    "lines = last_n_lines('assignment12.txt', 5)\n",
    "for line in lines:\n",
    "    print(line, end='')"
   ]
  },
  {
   "cell_type": "markdown",
   "id": "023bb44e-e8f2-4ee7-9a98-e1597f6d0d9f",
   "metadata": {},
   "source": [
    "## Problem: Find the largest line in the file (line ending with /n)"
   ]
  },
  {
   "cell_type": "code",
   "execution_count": 6,
   "id": "c3792645-7444-4923-beee-eb887ab13269",
   "metadata": {},
   "outputs": [],
   "source": [
    "def largest_line(filename):\n",
    "    largest = \"\"\n",
    "    with open(filename, 'r') as f:\n",
    "        for line in f:\n",
    "            if len(line) > len(largest):\n",
    "                largest = line\n",
    "    return largest"
   ]
  },
  {
   "cell_type": "code",
   "execution_count": 8,
   "id": "964a19e5-aa91-4bc4-a2b7-eadca75b9b3c",
   "metadata": {},
   "outputs": [
    {
     "name": "stdout",
     "output_type": "stream",
     "text": [
      "The largest line in the file is:\n",
      "Whose woods these are I think I know.   \n"
     ]
    }
   ],
   "source": [
    "line = largest_line('assignment12.txt')\n",
    "print(\"The largest line in the file is:\")\n",
    "print(line, end='')"
   ]
  },
  {
   "cell_type": "code",
   "execution_count": null,
   "id": "abd0d606-ba20-466e-afc6-9228f624d1e8",
   "metadata": {},
   "outputs": [],
   "source": []
  }
 ],
 "metadata": {
  "kernelspec": {
   "display_name": "Python 3 (ipykernel)",
   "language": "python",
   "name": "python3"
  },
  "language_info": {
   "codemirror_mode": {
    "name": "ipython",
    "version": 3
   },
   "file_extension": ".py",
   "mimetype": "text/x-python",
   "name": "python",
   "nbconvert_exporter": "python",
   "pygments_lexer": "ipython3",
   "version": "3.12.10"
  }
 },
 "nbformat": 4,
 "nbformat_minor": 5
}
