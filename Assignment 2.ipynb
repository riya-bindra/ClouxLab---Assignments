{
 "cells": [
  {
   "cell_type": "markdown",
   "id": "cf5e27a1-4167-479f-a8d6-48ac1139ed5d",
   "metadata": {},
   "source": [
    "### Problem 1: Calculate Payments Based on Hourly Rate"
   ]
  },
  {
   "cell_type": "code",
   "execution_count": 1,
   "id": "1fb6b1ed-84e5-4696-8216-2846e6a2d2a6",
   "metadata": {},
   "outputs": [],
   "source": [
    "def calculate_payment(hours_worked, hourly_rate):\n",
    "    return hours_worked * hourly_rate"
   ]
  },
  {
   "cell_type": "code",
   "execution_count": 2,
   "id": "81dc77be-040e-494f-9bf2-18fa053e29d1",
   "metadata": {},
   "outputs": [
    {
     "name": "stdout",
     "output_type": "stream",
     "text": [
      "Payment for 40 hours at 20 per hour is: 800\n"
     ]
    }
   ],
   "source": [
    "hours_worked = 40\n",
    "hourly_rate = 20\n",
    "payment = calculate_payment(hours_worked, hourly_rate)\n",
    "print(f\"Payment for {hours_worked} hours at {hourly_rate} per hour is: {payment}\")"
   ]
  },
  {
   "cell_type": "markdown",
   "id": "16430f72-27f9-4d7b-9975-87a1957822cc",
   "metadata": {},
   "source": [
    "### Problem 2: Write a program to calculate compound interest based on user input on principle, years (duration) and interest rate."
   ]
  },
  {
   "cell_type": "code",
   "execution_count": 13,
   "id": "e0aea2fd-2089-44d4-a5d8-1055de8a7dd9",
   "metadata": {},
   "outputs": [],
   "source": [
    "def calculate_compound_interest(principal, rate, time):\n",
    "    Amount = principal * (pow((1 + rate / 100), time))\n",
    "    CI = Amount - principal\n",
    "    return CI"
   ]
  },
  {
   "cell_type": "code",
   "execution_count": 16,
   "id": "662c43b2-07f1-49d4-bb97-44880bdaabf3",
   "metadata": {},
   "outputs": [
    {
     "name": "stdout",
     "output_type": "stream",
     "text": [
      "Compund interest for 10000 for 5 years at 10 % per annum is: 6105.100000000006\n"
     ]
    }
   ],
   "source": [
    "principal=10000\n",
    "rate=10\n",
    "time=5\n",
    "compound_interest = calculate_compound_interest(principal, rate, time)\n",
    "print(f\"Compund interest for {principal} for {time} years at {rate} % per annum is: {compound_interest}\")"
   ]
  },
  {
   "cell_type": "code",
   "execution_count": null,
   "id": "a0a473d7-31d0-4377-a17a-b7314c29aeb3",
   "metadata": {},
   "outputs": [],
   "source": []
  }
 ],
 "metadata": {
  "kernelspec": {
   "display_name": "Python 3 (ipykernel)",
   "language": "python",
   "name": "python3"
  },
  "language_info": {
   "codemirror_mode": {
    "name": "ipython",
    "version": 3
   },
   "file_extension": ".py",
   "mimetype": "text/x-python",
   "name": "python",
   "nbconvert_exporter": "python",
   "pygments_lexer": "ipython3",
   "version": "3.12.10"
  }
 },
 "nbformat": 4,
 "nbformat_minor": 5
}
