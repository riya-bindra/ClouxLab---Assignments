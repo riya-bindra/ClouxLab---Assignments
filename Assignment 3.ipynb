{
 "cells": [
  {
   "cell_type": "markdown",
   "id": "193e9460-e4c5-42c3-8857-c09f4832a6e1",
   "metadata": {},
   "source": [
    "### Problem 1: Print all strings that can be generated from a list of letters."
   ]
  },
  {
   "cell_type": "code",
   "execution_count": 25,
   "id": "4c1fe458-9cb9-4948-b327-1a661c9b1c9f",
   "metadata": {},
   "outputs": [],
   "source": [
    "def generate_all_strings(letters):\n",
    "    if len(letters) == 0:\n",
    "        return ['']\n",
    "        \n",
    "    permutations = []\n",
    "    for i, letter in enumerate(letters):\n",
    "        remaining_letters = letters[:i] + letters[i+1:]\n",
    "        for perm in generate_all_strings(remaining_letters):\n",
    "            permutations.append(letter + perm)\n",
    "    return permutations"
   ]
  },
  {
   "cell_type": "code",
   "execution_count": 26,
   "id": "22612cf6-afa4-4c16-8510-85625a54d5e6",
   "metadata": {},
   "outputs": [],
   "source": [
    "all_strings=generate_all_strings(\"abc\")"
   ]
  },
  {
   "cell_type": "code",
   "execution_count": 27,
   "id": "8c7687f2-b90b-4007-bc4a-0309b31f9b77",
   "metadata": {},
   "outputs": [
    {
     "data": {
      "text/plain": [
       "['abc', 'acb', 'bac', 'bca', 'cab', 'cba']"
      ]
     },
     "execution_count": 27,
     "metadata": {},
     "output_type": "execute_result"
    }
   ],
   "source": [
    "all_strings"
   ]
  },
  {
   "cell_type": "code",
   "execution_count": 28,
   "id": "b0b3daee-4c78-4338-8cf4-b2beb5400288",
   "metadata": {},
   "outputs": [
    {
     "name": "stdout",
     "output_type": "stream",
     "text": [
      "All possible strings of abc are: ['abc', 'acb', 'bac', 'bca', 'cab', 'cba']\n"
     ]
    }
   ],
   "source": [
    "print(f\"All possible strings of abc are: {generate_all_strings(\"abc\")}\")"
   ]
  },
  {
   "cell_type": "markdown",
   "id": "58ea482a-b3bd-407a-8364-b20853e29cc2",
   "metadata": {},
   "source": [
    "### Problem 2: Huber Loss"
   ]
  },
  {
   "cell_type": "markdown",
   "id": "90f3126c-0ff7-480a-abe6-127fc86cdb8e",
   "metadata": {},
   "source": [
    "The Huber Loss is a loss function used in robust regression that is less sensitive to outliers than the squared error loss. It combines the best properties of both the Mean Squared Error (MSE) and Mean Absolute Error (MAE). <br><br>\n",
    "For small errors, it behaves like MSE.\n",
    "For large errors, it behaves like MAE."
   ]
  },
  {
   "cell_type": "code",
   "execution_count": 29,
   "id": "314a81ba-d382-4e15-ad59-9dce9c0ff12e",
   "metadata": {},
   "outputs": [],
   "source": [
    "import numpy as np\n",
    "\n",
    "def huber_loss(y_true, y_pred, delta):\n",
    "    error = y_true - y_pred\n",
    "    is_small_error = np.abs(error) <= delta\n",
    "    squared_loss = 0.5 * np.square(error)\n",
    "    linear_loss = delta * (np.abs(error) - 0.5 * delta)\n",
    "    return np.where(is_small_error, squared_loss, linear_loss).mean()"
   ]
  },
  {
   "cell_type": "code",
   "execution_count": 30,
   "id": "13613482-e516-465e-a797-0645b87a1e39",
   "metadata": {},
   "outputs": [
    {
     "name": "stdout",
     "output_type": "stream",
     "text": [
      "Huber Loss: 0.175\n"
     ]
    }
   ],
   "source": [
    "y_true = np.array([1.0, 2.0, 3.0, 4.0, 5.0])\n",
    "y_pred = np.array([1.5, 2.5, 2.0, 4.0, 5.5])\n",
    "delta = 1.0\n",
    "loss = huber_loss(y_true, y_pred, delta)\n",
    "print(f\"Huber Loss: {loss}\")"
   ]
  },
  {
   "cell_type": "markdown",
   "id": "d6ec4cc2-8da2-46a2-a7e6-c79d251ab6c5",
   "metadata": {},
   "source": [
    "### Problem 3: BLEU Score"
   ]
  },
  {
   "cell_type": "markdown",
   "id": "9b8bdb81-4c69-40a0-8cdc-5021d235801d",
   "metadata": {},
   "source": [
    "The BLEU stands for Bilingual Evaluation Understudy score. It is an evaluation metric used to assess the quality of machine-translated text. It measures how closely a machine-generated translation matches one or more reference translations provided by humans. The BLEU score ranges from 0 to 1, with values closer to 1 indicating higher similarity to the reference translations."
   ]
  },
  {
   "cell_type": "code",
   "execution_count": 31,
   "id": "82148071-9809-4a92-9bc8-ab53031b595a",
   "metadata": {},
   "outputs": [
    {
     "name": "stdout",
     "output_type": "stream",
     "text": [
      "Requirement already satisfied: nltk in c:\\users\\riy\\appdata\\local\\programs\\python\\python312\\lib\\site-packages (3.9.1)\n",
      "Requirement already satisfied: click in c:\\users\\riy\\appdata\\local\\programs\\python\\python312\\lib\\site-packages (from nltk) (8.1.8)\n",
      "Requirement already satisfied: joblib in c:\\users\\riy\\appdata\\local\\programs\\python\\python312\\lib\\site-packages (from nltk) (1.4.2)\n",
      "Requirement already satisfied: regex>=2021.8.3 in c:\\users\\riy\\appdata\\local\\programs\\python\\python312\\lib\\site-packages (from nltk) (2024.11.6)\n",
      "Requirement already satisfied: tqdm in c:\\users\\riy\\appdata\\local\\programs\\python\\python312\\lib\\site-packages (from nltk) (4.67.1)\n",
      "Requirement already satisfied: colorama in c:\\users\\riy\\appdata\\local\\programs\\python\\python312\\lib\\site-packages (from click->nltk) (0.4.6)\n",
      "Note: you may need to restart the kernel to use updated packages.\n"
     ]
    }
   ],
   "source": [
    "pip install nltk"
   ]
  },
  {
   "cell_type": "code",
   "execution_count": 32,
   "id": "4a6feeff-14a7-49d0-9000-a02d8e78f88e",
   "metadata": {},
   "outputs": [],
   "source": [
    "import nltk\n",
    "from nltk.translate.bleu_score import sentence_bleu\n",
    "\n",
    "def calculate_bleu(reference, candidate):\n",
    "    reference = [reference.split()]\n",
    "    candidate = candidate.split()\n",
    "    score = sentence_bleu(reference, candidate)\n",
    "    return score"
   ]
  },
  {
   "cell_type": "code",
   "execution_count": 33,
   "id": "e121c014-afbb-4d8d-817f-410cf344f21c",
   "metadata": {},
   "outputs": [
    {
     "name": "stdout",
     "output_type": "stream",
     "text": [
      "BLEU score for the candidate translation is: 6.968148412761692e-155\n"
     ]
    }
   ],
   "source": [
    "reference = \"Riya is coding on her laptop\"\n",
    "candidate = \"Riya is learning to code in Python\"\n",
    "bleu_score = calculate_bleu(reference, candidate)\n",
    "print(f\"BLEU score for the candidate translation is: {bleu_score}\")"
   ]
  },
  {
   "cell_type": "markdown",
   "id": "9c63d63f-79ee-4fe3-926f-c50398223dac",
   "metadata": {},
   "source": [
    "### Problem 4: Design for implementing multiplication without using the multiplication operator "
   ]
  },
  {
   "cell_type": "markdown",
   "id": "c94dfb69-aae3-4f44-a0fd-815c26d0f967",
   "metadata": {},
   "source": [
    "Pseudocode\r\n",
    "\r\n",
    "1. **Initialize the Result**: Start with a result variable set to 0.\r\n",
    "2. **Handle Negative Numbers**: If either of the numbers is negative, handle the sign separately.\r\n",
    "3. **Repeated Addition**: Add one number to the result the number of times specified by the other number.\r\n",
    "4. **Return the Result**: Return the final result, adjusting for any negative signs if necessary.\r\n",
    "ary.\r\n",
    "ry."
   ]
  },
  {
   "cell_type": "code",
   "execution_count": 34,
   "id": "284c3970-5362-415e-8f75-f86180dbbedf",
   "metadata": {},
   "outputs": [],
   "source": [
    "def multiply_without_operator(a, b):\n",
    "    negative_result = False\n",
    "    if a < 0:\n",
    "        a = -a\n",
    "        negative_result = True\n",
    "        \n",
    "    if b < 0:\n",
    "        b = -b\n",
    "        negative_result = not negative_result\n",
    "\n",
    "    result = 0\n",
    "\n",
    "    for i in range(b):\n",
    "        result += a\n",
    "\n",
    "    if negative_result:\n",
    "        result = -result\n",
    "\n",
    "    return result"
   ]
  },
  {
   "cell_type": "code",
   "execution_count": 35,
   "id": "97b9822f-b309-4306-ae6c-705038d4b82b",
   "metadata": {},
   "outputs": [
    {
     "name": "stdout",
     "output_type": "stream",
     "text": [
      "The result of 5 * 3 is: 15\n",
      "The result of -5 * 3 is: -15\n",
      "The result of 5 * -3 is: -15\n",
      "The result of -5 * -3 is: 15\n"
     ]
    }
   ],
   "source": [
    "a = 5\n",
    "b = 3\n",
    "result = multiply_without_operator(a, b)\n",
    "print(f\"The result of {a} * {b} is: {result}\")\n",
    "\n",
    "a = -5\n",
    "b = 3\n",
    "result = multiply_without_operator(a, b)\n",
    "print(f\"The result of {a} * {b} is: {result}\")\n",
    "\n",
    "a = 5\n",
    "b = -3\n",
    "result = multiply_without_operator(a, b)\n",
    "print(f\"The result of {a} * {b} is: {result}\")\n",
    "\n",
    "a = -5\n",
    "b = -3\n",
    "result = multiply_without_operator(a, b)\n",
    "print(f\"The result of {a} * {b} is: {result}\")"
   ]
  },
  {
   "cell_type": "code",
   "execution_count": null,
   "id": "2cb39533-a24b-465a-88b1-16fb10c8eaf3",
   "metadata": {},
   "outputs": [],
   "source": []
  }
 ],
 "metadata": {
  "kernelspec": {
   "display_name": "Python 3 (ipykernel)",
   "language": "python",
   "name": "python3"
  },
  "language_info": {
   "codemirror_mode": {
    "name": "ipython",
    "version": 3
   },
   "file_extension": ".py",
   "mimetype": "text/x-python",
   "name": "python",
   "nbconvert_exporter": "python",
   "pygments_lexer": "ipython3",
   "version": "3.12.10"
  }
 },
 "nbformat": 4,
 "nbformat_minor": 5
}
