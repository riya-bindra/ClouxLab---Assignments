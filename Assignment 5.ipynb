{
 "cells": [
  {
   "cell_type": "markdown",
   "id": "7f0e8507-c981-48a3-99d1-e6913799beff",
   "metadata": {},
   "source": [
    "### Problem 1: Return the Difference of Two Vectors"
   ]
  },
  {
   "cell_type": "code",
   "execution_count": 1,
   "id": "aac689cd-f29d-4de5-83db-323fa2c82f03",
   "metadata": {},
   "outputs": [],
   "source": [
    "def diff(vector1, vector2):\n",
    "    return [a - b for a, b in zip(vector1, vector2)]"
   ]
  },
  {
   "cell_type": "code",
   "execution_count": 2,
   "id": "2dfc2499-5dfd-4f50-8bd5-830984896e1a",
   "metadata": {},
   "outputs": [
    {
     "name": "stdout",
     "output_type": "stream",
     "text": [
      "[-1, -1, -1]\n"
     ]
    }
   ],
   "source": [
    "print(diff([1, 2, 3], [2, 3, 4]))"
   ]
  },
  {
   "cell_type": "markdown",
   "id": "d19c6084-36cf-43fe-8348-775234d78128",
   "metadata": {},
   "source": [
    "### Problem 2: Find Absolute Distance Between Two Vectors (L1 Distance)"
   ]
  },
  {
   "cell_type": "code",
   "execution_count": 3,
   "id": "07df1ca6-f552-4892-9891-7ae75fc901d6",
   "metadata": {},
   "outputs": [],
   "source": [
    "def abs_distance(vector1, vector2):\n",
    "    return sum(abs(a - b) for a, b in zip(vector1, vector2))"
   ]
  },
  {
   "cell_type": "code",
   "execution_count": 4,
   "id": "045d201e-3a43-4083-962c-9610f8614a7e",
   "metadata": {},
   "outputs": [
    {
     "name": "stdout",
     "output_type": "stream",
     "text": [
      "3\n"
     ]
    }
   ],
   "source": [
    "print(abs_distance([1, 2, 3], [2, 3, 4]))"
   ]
  },
  {
   "cell_type": "markdown",
   "id": "b9fceb24-57fd-4984-94cc-ba80f71e525a",
   "metadata": {},
   "source": [
    "### Problem 3: Find the Distance Between Two 2D Points"
   ]
  },
  {
   "cell_type": "code",
   "execution_count": 5,
   "id": "b4c3e47b-6ec2-480d-a93d-5e4b19b6846d",
   "metadata": {},
   "outputs": [],
   "source": [
    "import math"
   ]
  },
  {
   "cell_type": "code",
   "execution_count": 6,
   "id": "12d9909b-6929-4c70-a988-f08fc7216434",
   "metadata": {},
   "outputs": [],
   "source": [
    "def distance(point1, point2):\n",
    "    return math.sqrt((point2[0] - point1[0])**2 + (point2[1] - point1[1])**2)"
   ]
  },
  {
   "cell_type": "code",
   "execution_count": 7,
   "id": "714b922d-d36d-44b8-805e-bd4df48f1933",
   "metadata": {},
   "outputs": [
    {
     "name": "stdout",
     "output_type": "stream",
     "text": [
      "3.605551275463989\n"
     ]
    }
   ],
   "source": [
    "print(distance([1, 2], [3, 5]))"
   ]
  },
  {
   "cell_type": "markdown",
   "id": "2abf74a3-2384-48b2-ba53-1353b2989894",
   "metadata": {},
   "source": [
    "### Problem 4: Find the Distance Between Two 3D Points"
   ]
  },
  {
   "cell_type": "code",
   "execution_count": 10,
   "id": "c49cad26-3ac6-486f-b015-523b20a9ed84",
   "metadata": {},
   "outputs": [],
   "source": [
    "def distance3d(point1, point2):\n",
    "    return math.sqrt((point2[0] - point1[0])**2 + (point2[1] - point1[1])**2 + (point2[2] - point1[2])**2)"
   ]
  },
  {
   "cell_type": "code",
   "execution_count": 11,
   "id": "6114489b-eb67-4887-b599-64782a9b40fc",
   "metadata": {},
   "outputs": [
    {
     "name": "stdout",
     "output_type": "stream",
     "text": [
      "7.0710678118654755\n"
     ]
    }
   ],
   "source": [
    "print(distance3d([1, 2, 3], [4, 6, 8])) "
   ]
  },
  {
   "cell_type": "code",
   "execution_count": null,
   "id": "99f85c12-d017-4fc8-b076-e1df05fcdb30",
   "metadata": {},
   "outputs": [],
   "source": []
  }
 ],
 "metadata": {
  "kernelspec": {
   "display_name": "Python 3 (ipykernel)",
   "language": "python",
   "name": "python3"
  },
  "language_info": {
   "codemirror_mode": {
    "name": "ipython",
    "version": 3
   },
   "file_extension": ".py",
   "mimetype": "text/x-python",
   "name": "python",
   "nbconvert_exporter": "python",
   "pygments_lexer": "ipython3",
   "version": "3.12.10"
  }
 },
 "nbformat": 4,
 "nbformat_minor": 5
}
