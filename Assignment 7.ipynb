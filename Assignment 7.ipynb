{
 "cells": [
  {
   "cell_type": "markdown",
   "id": "9b271b7a-4282-4331-a52a-b457e0f77b59",
   "metadata": {},
   "source": [
    "### Problem 1: Coin Toss: Create a function that return 0, 1 with equal probability."
   ]
  },
  {
   "cell_type": "code",
   "execution_count": 70,
   "id": "7b694263-0f48-4576-99ef-ecc4ef43378c",
   "metadata": {},
   "outputs": [],
   "source": [
    "import random"
   ]
  },
  {
   "cell_type": "code",
   "execution_count": 71,
   "id": "2cf4ae5b-0c98-48e1-934d-5c964e76ef96",
   "metadata": {},
   "outputs": [
    {
     "name": "stdout",
     "output_type": "stream",
     "text": [
      "Coin toss result: 0\n"
     ]
    }
   ],
   "source": [
    "def coin_toss():\n",
    "    return random.randint(0, 1)\n",
    "\n",
    "result = coin_toss()\n",
    "print(f\"Coin toss result: {result}\")"
   ]
  },
  {
   "cell_type": "markdown",
   "id": "38ac7bf8-d56a-4613-9dfb-6a1648710f88",
   "metadata": {},
   "source": [
    "### Problem 2: Coin Toss: Create a function that return 0, 1, 2 with equal probability."
   ]
  },
  {
   "cell_type": "code",
   "execution_count": 72,
   "id": "5664cfa3-7cc7-4436-ad4a-8becc211aa56",
   "metadata": {},
   "outputs": [
    {
     "name": "stdout",
     "output_type": "stream",
     "text": [
      "Coin toss result: 2\n"
     ]
    }
   ],
   "source": [
    "def coin_toss_three():\n",
    "    return random.randint(0, 2)\n",
    "\n",
    "result = coin_toss_three()\n",
    "print(f\"Coin toss result: {result}\")"
   ]
  },
  {
   "cell_type": "markdown",
   "id": "f4d0d433-a441-486f-ad7e-5106e294d329",
   "metadata": {},
   "source": [
    "### Problem 3: Create an faced die which generates number from 0 to n - 1 with equal probability."
   ]
  },
  {
   "cell_type": "code",
   "execution_count": 73,
   "id": "824f8134-0139-46bb-b5ed-0caaad28fae0",
   "metadata": {},
   "outputs": [],
   "source": [
    "def roll_die(n):\n",
    "    return random.randint(0, n-1)"
   ]
  },
  {
   "cell_type": "code",
   "execution_count": 74,
   "id": "b0d0daa1-7766-4a45-8f9e-e084a807cad9",
   "metadata": {},
   "outputs": [
    {
     "name": "stdout",
     "output_type": "stream",
     "text": [
      "The result of rolling a 6-sided die is: 0\n"
     ]
    }
   ],
   "source": [
    "n = 6 \n",
    "result = roll_die(n)\n",
    "print(f\"The result of rolling a {n}-sided die is: {result}\")"
   ]
  },
  {
   "cell_type": "markdown",
   "id": "c74e9f6c-b03b-465c-a104-b07074388d9f",
   "metadata": {},
   "source": [
    "### Problem 4: Unfair Coin"
   ]
  },
  {
   "cell_type": "code",
   "execution_count": 75,
   "id": "8a6e06b0-5c1e-4c51-804b-df7420f4ad4e",
   "metadata": {},
   "outputs": [],
   "source": [
    "def coin_toss(p1, p2):\n",
    "    # Calculate the probability of returning 0\n",
    "    prob_0 = p1 / (p1 + p2)\n",
    "    \n",
    "    # Generate a random number between 0 and 1\n",
    "    rand_num = random.random()\n",
    "    \n",
    "    # Return 0 with probability prob_0, otherwise return 1\n",
    "    if rand_num < prob_0:\n",
    "        return 0\n",
    "    else:\n",
    "        return 1"
   ]
  },
  {
   "cell_type": "code",
   "execution_count": 76,
   "id": "d3243c94-9ab8-4346-a2ff-909efeed1fb5",
   "metadata": {},
   "outputs": [
    {
     "name": "stdout",
     "output_type": "stream",
     "text": [
      "The result of the unfair coin toss with probabilities 3/10 and 7/10 is: 1\n"
     ]
    }
   ],
   "source": [
    "p1 = 3\n",
    "p2 = 7\n",
    "result = coin_toss(p1, p2)\n",
    "print(f\"The result of the unfair coin toss with probabilities {p1}/{p1 + p2} and {p2}/{p1 + p2} is: {result}\")"
   ]
  },
  {
   "cell_type": "code",
   "execution_count": null,
   "id": "20af3d5e-a656-4b48-9e9f-1a135d8e65f8",
   "metadata": {},
   "outputs": [],
   "source": []
  }
 ],
 "metadata": {
  "kernelspec": {
   "display_name": "Python 3 (ipykernel)",
   "language": "python",
   "name": "python3"
  },
  "language_info": {
   "codemirror_mode": {
    "name": "ipython",
    "version": 3
   },
   "file_extension": ".py",
   "mimetype": "text/x-python",
   "name": "python",
   "nbconvert_exporter": "python",
   "pygments_lexer": "ipython3",
   "version": "3.12.10"
  }
 },
 "nbformat": 4,
 "nbformat_minor": 5
}
